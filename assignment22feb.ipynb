{
 "cells": [
  {
   "cell_type": "code",
   "execution_count": 6,
   "id": "297bfa8b-9ca4-49ea-b744-c449b104386a",
   "metadata": {},
   "outputs": [
    {
     "name": "stdout",
     "output_type": "stream",
     "text": [
      "0     4\n",
      "1     8\n",
      "2    16\n",
      "3    23\n",
      "4    42\n",
      "dtype: int64\n"
     ]
    }
   ],
   "source": [
    "#Question1:\n",
    "#Answer:\n",
    "import pandas as pd\n",
    "data  = [4,8,16,23,42]\n",
    "series = pd.Series(data)\n",
    "print(series)"
   ]
  },
  {
   "cell_type": "code",
   "execution_count": 7,
   "id": "bd75a4d3-6dc5-4433-b510-97601e7a0efc",
   "metadata": {},
   "outputs": [
    {
     "name": "stdout",
     "output_type": "stream",
     "text": [
      "0     1\n",
      "1     2\n",
      "2     3\n",
      "3     4\n",
      "4     5\n",
      "5     6\n",
      "6     7\n",
      "7     8\n",
      "8     9\n",
      "9    10\n",
      "dtype: int64\n"
     ]
    }
   ],
   "source": [
    "#Question2:\n",
    "#Answer:\n",
    "\n",
    "my_data = [1,2,3,4,5,6,7,8,9,10]\n",
    "series1 = pd.Series(my_data)\n",
    "print(series1)"
   ]
  },
  {
   "cell_type": "code",
   "execution_count": 14,
   "id": "8851ceb4-85fe-4961-85f5-76b5084b74d1",
   "metadata": {},
   "outputs": [
    {
     "name": "stdout",
     "output_type": "stream",
     "text": [
      "     Name  Age  Gender\n",
      "0   Alice   25  Female\n",
      "1     Bob   30    Male\n",
      "2  Claire   27  Female\n"
     ]
    }
   ],
   "source": [
    "#Question3:\n",
    "#Answer:\n",
    "\n",
    "given_data = {\n",
    "    \"Name\":[\"Alice\",\"Bob\",\"Claire\"],\n",
    "    \"Age\":[25,30,27],\n",
    "    \"Gender\":[\"Female\",\"Male\",\"Female\"]\n",
    "}\n",
    "df = pd.DataFrame(given_data)\n",
    "print(df)"
   ]
  },
  {
   "cell_type": "code",
   "execution_count": 17,
   "id": "495b8417-a04a-4e86-bcd4-3eef6b5f2d4a",
   "metadata": {},
   "outputs": [
    {
     "name": "stdout",
     "output_type": "stream",
     "text": [
      "##DATAFRAME##\n",
      "     Name  Age  Gender\n",
      "0   Alice   25  Female\n",
      "1     Bob   30    Male\n",
      "2  Claire   27  Female\n",
      "##SERIES##\n",
      "0     Alice\n",
      "1       Bob\n",
      "2    Claire\n",
      "Name: Name, dtype: object\n"
     ]
    }
   ],
   "source": [
    "#Question4:\n",
    "#Answer:\n",
    "\n",
    "\"\"\"\n",
    "In Pandas, a DataFrame is a 2-dimensional labeled data structure that represents a tabular data structure\n",
    "similar to a spreadsheet or SQL table. It consists of rows and columns, \n",
    "where each column can have a different data type.\n",
    "The DataFrame is one of the most commonly used data structures in Pandas and provides a \n",
    "powerful and flexible way to manipulate and analyze data.\n",
    "\n",
    "On the other hand, a Series is a 1-dimensional labeled array that can store data of any type \n",
    "(integers, strings, floats, etc.). It is similar to a Python list or a NumPy array, \n",
    "but with the added benefit of having labeled indices, \n",
    "allowing for more efficient data access and manipulation.\n",
    "\"\"\"\n",
    "given_data = {\n",
    "    \"Name\":[\"Alice\",\"Bob\",\"Claire\"],\n",
    "    \"Age\":[25,30,27],\n",
    "    \"Gender\":[\"Female\",\"Male\",\"Female\"]\n",
    "}\n",
    "df = pd.DataFrame(given_data)\n",
    "print(\"##DATAFRAME##\")\n",
    "print(df)\n",
    "series2 = df['Name']\n",
    "print(\"##SERIES##\")\n",
    "type(series2)\n",
    "print(series2)"
   ]
  },
  {
   "cell_type": "code",
   "execution_count": 19,
   "id": "49cadc30-5820-486d-a9b6-7b7991aeab69",
   "metadata": {},
   "outputs": [
    {
     "data": {
      "text/html": [
       "<div>\n",
       "<style scoped>\n",
       "    .dataframe tbody tr th:only-of-type {\n",
       "        vertical-align: middle;\n",
       "    }\n",
       "\n",
       "    .dataframe tbody tr th {\n",
       "        vertical-align: top;\n",
       "    }\n",
       "\n",
       "    .dataframe thead th {\n",
       "        text-align: right;\n",
       "    }\n",
       "</style>\n",
       "<table border=\"1\" class=\"dataframe\">\n",
       "  <thead>\n",
       "    <tr style=\"text-align: right;\">\n",
       "      <th></th>\n",
       "      <th>Name</th>\n",
       "      <th>Age</th>\n",
       "      <th>Gender</th>\n",
       "    </tr>\n",
       "  </thead>\n",
       "  <tbody>\n",
       "    <tr>\n",
       "      <th>0</th>\n",
       "      <td>Aman</td>\n",
       "      <td>20</td>\n",
       "      <td>Male</td>\n",
       "    </tr>\n",
       "    <tr>\n",
       "      <th>1</th>\n",
       "      <td>Saurabh</td>\n",
       "      <td>20</td>\n",
       "      <td>Female</td>\n",
       "    </tr>\n",
       "    <tr>\n",
       "      <th>2</th>\n",
       "      <td>Shobhit</td>\n",
       "      <td>21</td>\n",
       "      <td>Female</td>\n",
       "    </tr>\n",
       "    <tr>\n",
       "      <th>3</th>\n",
       "      <td>Umair</td>\n",
       "      <td>22</td>\n",
       "      <td>Male</td>\n",
       "    </tr>\n",
       "  </tbody>\n",
       "</table>\n",
       "</div>"
      ],
      "text/plain": [
       "      Name  Age  Gender\n",
       "0     Aman   20    Male\n",
       "1  Saurabh   20  Female\n",
       "2  Shobhit   21  Female\n",
       "3    Umair   22    Male"
      ]
     },
     "execution_count": 19,
     "metadata": {},
     "output_type": "execute_result"
    }
   ],
   "source": [
    "#Question5:\n",
    "#Answer:\n",
    "\n",
    "data_tb = {\n",
    "            \"Name\":[\"Aman\",\"Saurabh\",\"Shobhit\",\"Umair\"],\n",
    "            \"Age\":[20,20,21,22],\n",
    "            \"Gender\":[\"Male\",\"Female\",\"Female\",\"Male\"]\n",
    "}\n",
    "create_df = pd.DataFrame(data_tb)\n",
    "create_df"
   ]
  },
  {
   "cell_type": "code",
   "execution_count": 20,
   "id": "63efb4fb-f84f-48dc-a016-db6481b8c7da",
   "metadata": {},
   "outputs": [
    {
     "data": {
      "text/html": [
       "<div>\n",
       "<style scoped>\n",
       "    .dataframe tbody tr th:only-of-type {\n",
       "        vertical-align: middle;\n",
       "    }\n",
       "\n",
       "    .dataframe tbody tr th {\n",
       "        vertical-align: top;\n",
       "    }\n",
       "\n",
       "    .dataframe thead th {\n",
       "        text-align: right;\n",
       "    }\n",
       "</style>\n",
       "<table border=\"1\" class=\"dataframe\">\n",
       "  <thead>\n",
       "    <tr style=\"text-align: right;\">\n",
       "      <th></th>\n",
       "      <th>Name</th>\n",
       "      <th>Age</th>\n",
       "      <th>Gender</th>\n",
       "    </tr>\n",
       "  </thead>\n",
       "  <tbody>\n",
       "    <tr>\n",
       "      <th>0</th>\n",
       "      <td>Aman</td>\n",
       "      <td>20</td>\n",
       "      <td>Male</td>\n",
       "    </tr>\n",
       "    <tr>\n",
       "      <th>1</th>\n",
       "      <td>Saurabh</td>\n",
       "      <td>20</td>\n",
       "      <td>Female</td>\n",
       "    </tr>\n",
       "  </tbody>\n",
       "</table>\n",
       "</div>"
      ],
      "text/plain": [
       "      Name  Age  Gender\n",
       "0     Aman   20    Male\n",
       "1  Saurabh   20  Female"
      ]
     },
     "execution_count": 20,
     "metadata": {},
     "output_type": "execute_result"
    }
   ],
   "source": [
    "create_df.head(2)"
   ]
  },
  {
   "cell_type": "code",
   "execution_count": 21,
   "id": "113d0ae3-8cd8-495d-ae96-0c2516a918fd",
   "metadata": {},
   "outputs": [
    {
     "data": {
      "text/html": [
       "<div>\n",
       "<style scoped>\n",
       "    .dataframe tbody tr th:only-of-type {\n",
       "        vertical-align: middle;\n",
       "    }\n",
       "\n",
       "    .dataframe tbody tr th {\n",
       "        vertical-align: top;\n",
       "    }\n",
       "\n",
       "    .dataframe thead th {\n",
       "        text-align: right;\n",
       "    }\n",
       "</style>\n",
       "<table border=\"1\" class=\"dataframe\">\n",
       "  <thead>\n",
       "    <tr style=\"text-align: right;\">\n",
       "      <th></th>\n",
       "      <th>Name</th>\n",
       "      <th>Age</th>\n",
       "      <th>Gender</th>\n",
       "    </tr>\n",
       "  </thead>\n",
       "  <tbody>\n",
       "    <tr>\n",
       "      <th>2</th>\n",
       "      <td>Shobhit</td>\n",
       "      <td>21</td>\n",
       "      <td>Female</td>\n",
       "    </tr>\n",
       "    <tr>\n",
       "      <th>3</th>\n",
       "      <td>Umair</td>\n",
       "      <td>22</td>\n",
       "      <td>Male</td>\n",
       "    </tr>\n",
       "  </tbody>\n",
       "</table>\n",
       "</div>"
      ],
      "text/plain": [
       "      Name  Age  Gender\n",
       "2  Shobhit   21  Female\n",
       "3    Umair   22    Male"
      ]
     },
     "execution_count": 21,
     "metadata": {},
     "output_type": "execute_result"
    }
   ],
   "source": [
    "create_df.tail(2)"
   ]
  },
  {
   "cell_type": "code",
   "execution_count": 22,
   "id": "9368a380-9eae-4aaa-93a8-6a3b6d9a8186",
   "metadata": {},
   "outputs": [
    {
     "data": {
      "text/plain": [
       "count     4.000000\n",
       "mean     20.750000\n",
       "std       0.957427\n",
       "min      20.000000\n",
       "25%      20.000000\n",
       "50%      20.500000\n",
       "75%      21.250000\n",
       "max      22.000000\n",
       "Name: Age, dtype: float64"
      ]
     },
     "execution_count": 22,
     "metadata": {},
     "output_type": "execute_result"
    }
   ],
   "source": [
    "create_df['Age'].describe()"
   ]
  },
  {
   "cell_type": "code",
   "execution_count": 24,
   "id": "1343fa1c-825a-4abf-946a-e93431753c4a",
   "metadata": {},
   "outputs": [
    {
     "data": {
      "text/html": [
       "<div>\n",
       "<style scoped>\n",
       "    .dataframe tbody tr th:only-of-type {\n",
       "        vertical-align: middle;\n",
       "    }\n",
       "\n",
       "    .dataframe tbody tr th {\n",
       "        vertical-align: top;\n",
       "    }\n",
       "\n",
       "    .dataframe thead th {\n",
       "        text-align: right;\n",
       "    }\n",
       "</style>\n",
       "<table border=\"1\" class=\"dataframe\">\n",
       "  <thead>\n",
       "    <tr style=\"text-align: right;\">\n",
       "      <th></th>\n",
       "      <th>Age</th>\n",
       "    </tr>\n",
       "  </thead>\n",
       "  <tbody>\n",
       "    <tr>\n",
       "      <th>0</th>\n",
       "      <td>20</td>\n",
       "    </tr>\n",
       "    <tr>\n",
       "      <th>1</th>\n",
       "      <td>20</td>\n",
       "    </tr>\n",
       "    <tr>\n",
       "      <th>2</th>\n",
       "      <td>21</td>\n",
       "    </tr>\n",
       "  </tbody>\n",
       "</table>\n",
       "</div>"
      ],
      "text/plain": [
       "   Age\n",
       "0   20\n",
       "1   20\n",
       "2   21"
      ]
     },
     "execution_count": 24,
     "metadata": {},
     "output_type": "execute_result"
    }
   ],
   "source": [
    "create_df.iloc[0:3 , [1]]"
   ]
  },
  {
   "cell_type": "code",
   "execution_count": 25,
   "id": "b61834cf-09fd-4004-8f09-ada1d31c759c",
   "metadata": {},
   "outputs": [
    {
     "data": {
      "text/html": [
       "<div>\n",
       "<style scoped>\n",
       "    .dataframe tbody tr th:only-of-type {\n",
       "        vertical-align: middle;\n",
       "    }\n",
       "\n",
       "    .dataframe tbody tr th {\n",
       "        vertical-align: top;\n",
       "    }\n",
       "\n",
       "    .dataframe thead th {\n",
       "        text-align: right;\n",
       "    }\n",
       "</style>\n",
       "<table border=\"1\" class=\"dataframe\">\n",
       "  <thead>\n",
       "    <tr style=\"text-align: right;\">\n",
       "      <th></th>\n",
       "      <th>Name</th>\n",
       "    </tr>\n",
       "  </thead>\n",
       "  <tbody>\n",
       "    <tr>\n",
       "      <th>0</th>\n",
       "      <td>Aman</td>\n",
       "    </tr>\n",
       "    <tr>\n",
       "      <th>1</th>\n",
       "      <td>Saurabh</td>\n",
       "    </tr>\n",
       "    <tr>\n",
       "      <th>2</th>\n",
       "      <td>Shobhit</td>\n",
       "    </tr>\n",
       "    <tr>\n",
       "      <th>3</th>\n",
       "      <td>Umair</td>\n",
       "    </tr>\n",
       "  </tbody>\n",
       "</table>\n",
       "</div>"
      ],
      "text/plain": [
       "      Name\n",
       "0     Aman\n",
       "1  Saurabh\n",
       "2  Shobhit\n",
       "3    Umair"
      ]
     },
     "execution_count": 25,
     "metadata": {},
     "output_type": "execute_result"
    }
   ],
   "source": [
    "create_df.loc[0:3 , [\"Name\"]]"
   ]
  },
  {
   "cell_type": "code",
   "execution_count": null,
   "id": "b8d7a009-e3f6-4d7d-ade1-c4fec14c7dfb",
   "metadata": {},
   "outputs": [],
   "source": [
    "#Question6:\n",
    "#Answer:\n",
    "\"\"\"\n",
    "In Pandas, both Series and DataFrame are mutable in nature, meaning you can modify their contents after creation.\n",
    "However, Panel is considered immutable, which means you cannot change its data once it has been created.\n",
    "\"\"\"\n"
   ]
  },
  {
   "cell_type": "code",
   "execution_count": 27,
   "id": "451cae7d-da1b-4a5f-9c7c-2303fed7f536",
   "metadata": {},
   "outputs": [
    {
     "data": {
      "text/html": [
       "<div>\n",
       "<style scoped>\n",
       "    .dataframe tbody tr th:only-of-type {\n",
       "        vertical-align: middle;\n",
       "    }\n",
       "\n",
       "    .dataframe tbody tr th {\n",
       "        vertical-align: top;\n",
       "    }\n",
       "\n",
       "    .dataframe thead th {\n",
       "        text-align: right;\n",
       "    }\n",
       "</style>\n",
       "<table border=\"1\" class=\"dataframe\">\n",
       "  <thead>\n",
       "    <tr style=\"text-align: right;\">\n",
       "      <th></th>\n",
       "      <th>Name</th>\n",
       "      <th>Age</th>\n",
       "      <th>Gender</th>\n",
       "    </tr>\n",
       "  </thead>\n",
       "  <tbody>\n",
       "    <tr>\n",
       "      <th>0</th>\n",
       "      <td>Aman</td>\n",
       "      <td>20</td>\n",
       "      <td>Male</td>\n",
       "    </tr>\n",
       "    <tr>\n",
       "      <th>1</th>\n",
       "      <td>Saurabh</td>\n",
       "      <td>20</td>\n",
       "      <td>Female</td>\n",
       "    </tr>\n",
       "    <tr>\n",
       "      <th>2</th>\n",
       "      <td>Shobhit</td>\n",
       "      <td>21</td>\n",
       "      <td>Female</td>\n",
       "    </tr>\n",
       "    <tr>\n",
       "      <th>3</th>\n",
       "      <td>Umair</td>\n",
       "      <td>22</td>\n",
       "      <td>Male</td>\n",
       "    </tr>\n",
       "  </tbody>\n",
       "</table>\n",
       "</div>"
      ],
      "text/plain": [
       "      Name  Age  Gender\n",
       "0     Aman   20    Male\n",
       "1  Saurabh   20  Female\n",
       "2  Shobhit   21  Female\n",
       "3    Umair   22    Male"
      ]
     },
     "execution_count": 27,
     "metadata": {},
     "output_type": "execute_result"
    }
   ],
   "source": [
    "create_df"
   ]
  },
  {
   "cell_type": "code",
   "execution_count": 30,
   "id": "7c6d14a9-7116-4d7b-adbd-d912a8474b86",
   "metadata": {},
   "outputs": [],
   "source": [
    "#Dataframe Mutablity\n",
    "create_df['Age'] = [10,23,45,67]"
   ]
  },
  {
   "cell_type": "code",
   "execution_count": 31,
   "id": "b6c92be2-62ff-457e-9000-bef885bce0cb",
   "metadata": {},
   "outputs": [
    {
     "data": {
      "text/html": [
       "<div>\n",
       "<style scoped>\n",
       "    .dataframe tbody tr th:only-of-type {\n",
       "        vertical-align: middle;\n",
       "    }\n",
       "\n",
       "    .dataframe tbody tr th {\n",
       "        vertical-align: top;\n",
       "    }\n",
       "\n",
       "    .dataframe thead th {\n",
       "        text-align: right;\n",
       "    }\n",
       "</style>\n",
       "<table border=\"1\" class=\"dataframe\">\n",
       "  <thead>\n",
       "    <tr style=\"text-align: right;\">\n",
       "      <th></th>\n",
       "      <th>Name</th>\n",
       "      <th>Age</th>\n",
       "      <th>Gender</th>\n",
       "    </tr>\n",
       "  </thead>\n",
       "  <tbody>\n",
       "    <tr>\n",
       "      <th>0</th>\n",
       "      <td>Aman</td>\n",
       "      <td>10</td>\n",
       "      <td>Male</td>\n",
       "    </tr>\n",
       "    <tr>\n",
       "      <th>1</th>\n",
       "      <td>Saurabh</td>\n",
       "      <td>23</td>\n",
       "      <td>Female</td>\n",
       "    </tr>\n",
       "    <tr>\n",
       "      <th>2</th>\n",
       "      <td>Shobhit</td>\n",
       "      <td>45</td>\n",
       "      <td>Female</td>\n",
       "    </tr>\n",
       "    <tr>\n",
       "      <th>3</th>\n",
       "      <td>Umair</td>\n",
       "      <td>67</td>\n",
       "      <td>Male</td>\n",
       "    </tr>\n",
       "  </tbody>\n",
       "</table>\n",
       "</div>"
      ],
      "text/plain": [
       "      Name  Age  Gender\n",
       "0     Aman   10    Male\n",
       "1  Saurabh   23  Female\n",
       "2  Shobhit   45  Female\n",
       "3    Umair   67    Male"
      ]
     },
     "execution_count": 31,
     "metadata": {},
     "output_type": "execute_result"
    }
   ],
   "source": [
    "create_df"
   ]
  },
  {
   "cell_type": "code",
   "execution_count": 45,
   "id": "5bf92da1-8022-43f3-bb17-7a91c3a924de",
   "metadata": {},
   "outputs": [],
   "source": [
    "#Series Mutability\n",
    "d = [1,2,3,4]"
   ]
  },
  {
   "cell_type": "code",
   "execution_count": 42,
   "id": "26bb6092-1e14-4a80-906b-e562a692a82b",
   "metadata": {},
   "outputs": [],
   "source": [
    "series6 = pd.Series(d)"
   ]
  },
  {
   "cell_type": "code",
   "execution_count": 43,
   "id": "d25d03b9-0ae3-4e62-a384-435d64abba8f",
   "metadata": {},
   "outputs": [],
   "source": [
    "series6[2] = 55"
   ]
  },
  {
   "cell_type": "code",
   "execution_count": 44,
   "id": "8887bcf0-0121-45ab-a757-d98a6535f3b8",
   "metadata": {},
   "outputs": [
    {
     "data": {
      "text/plain": [
       "0     1\n",
       "1     2\n",
       "2    55\n",
       "3     4\n",
       "dtype: int64"
      ]
     },
     "execution_count": 44,
     "metadata": {},
     "output_type": "execute_result"
    }
   ],
   "source": [
    "series6"
   ]
  },
  {
   "cell_type": "code",
   "execution_count": 46,
   "id": "5c4e2c16-b5b5-4ae7-ae99-25a8c180aacd",
   "metadata": {},
   "outputs": [],
   "source": [
    "#Question7:\n",
    "#Answer:\n",
    "age = [10,20,30]\n",
    "name = [\"Aman\",\"Shivam\",\"Harsh\"]\n",
    "s_name = [\"Kumar\",\"Suman\",\"Vardhan\"]\n",
    "\n",
    "age_series = pd.Series(age)\n",
    "name_series = pd.Series(name)\n",
    "sname_series = pd.Series(s_name)"
   ]
  },
  {
   "cell_type": "code",
   "execution_count": 50,
   "id": "944b3e5a-e30c-4b2d-b26f-f55f5a27faee",
   "metadata": {},
   "outputs": [
    {
     "data": {
      "text/plain": [
       "0    10\n",
       "1    20\n",
       "2    30\n",
       "dtype: int64"
      ]
     },
     "execution_count": 50,
     "metadata": {},
     "output_type": "execute_result"
    }
   ],
   "source": [
    "age_series"
   ]
  },
  {
   "cell_type": "code",
   "execution_count": 51,
   "id": "584f0e3c-314d-4a94-ab8f-019226615610",
   "metadata": {},
   "outputs": [
    {
     "data": {
      "text/plain": [
       "0      Aman\n",
       "1    Shivam\n",
       "2     Harsh\n",
       "dtype: object"
      ]
     },
     "execution_count": 51,
     "metadata": {},
     "output_type": "execute_result"
    }
   ],
   "source": [
    "name_series"
   ]
  },
  {
   "cell_type": "code",
   "execution_count": 52,
   "id": "8fa94074-18ff-4e46-8d9a-324e9aac283a",
   "metadata": {},
   "outputs": [
    {
     "data": {
      "text/plain": [
       "0      Kumar\n",
       "1      Suman\n",
       "2    Vardhan\n",
       "dtype: object"
      ]
     },
     "execution_count": 52,
     "metadata": {},
     "output_type": "execute_result"
    }
   ],
   "source": [
    "sname_series"
   ]
  },
  {
   "cell_type": "code",
   "execution_count": null,
   "id": "fea6aa58-f0aa-468a-af15-7595095df41d",
   "metadata": {},
   "outputs": [],
   "source": [
    "dataframe = {\n",
    "    \"\": ,\n",
    "    \"\": ,\n",
    "    \"\"\n",
    "\n",
    "}\n"
   ]
  }
 ],
 "metadata": {
  "kernelspec": {
   "display_name": "Python 3 (ipykernel)",
   "language": "python",
   "name": "python3"
  },
  "language_info": {
   "codemirror_mode": {
    "name": "ipython",
    "version": 3
   },
   "file_extension": ".py",
   "mimetype": "text/x-python",
   "name": "python",
   "nbconvert_exporter": "python",
   "pygments_lexer": "ipython3",
   "version": "3.10.6"
  }
 },
 "nbformat": 4,
 "nbformat_minor": 5
}
